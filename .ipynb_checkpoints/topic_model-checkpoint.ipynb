{
 "cells": [
  {
   "cell_type": "code",
   "execution_count": 1,
   "metadata": {},
   "outputs": [
    {
     "name": "stderr",
     "output_type": "stream",
     "text": [
      "c:\\users\\ajain7\\appdata\\local\\programs\\python\\python36\\lib\\site-packages\\gensim\\utils.py:1212: UserWarning: detected Windows; aliasing chunkize to chunkize_serial\n",
      "  warnings.warn(\"detected Windows; aliasing chunkize to chunkize_serial\")\n"
     ]
    },
    {
     "name": "stdout",
     "output_type": "stream",
     "text": [
      "------------------------------------------------------\n",
      "- Imports Done\n"
     ]
    }
   ],
   "source": [
    "from preprocess.arpit_v2 import *\n",
    "from preprocess.preprocess_v2 import *\n",
    "from preprocess.preprocess_v2 import preprocess\n",
    "import os\n",
    "import inspect\n",
    "import time\n",
    "import pyLDAvis\n",
    "import pyLDAvis.gensim\n",
    "import matplotlib.pyplot as plt\n",
    "import warnings\n",
    "warnings.filterwarnings('ignore')\n",
    "import pickle\n",
    "from models.LDA_multi_level import lda_model_multi_level\n",
    "from models.LDA_single_level import lda_model_single_level\n",
    "print('------------------------------------------------------')\n",
    "print('- Imports Done')"
   ]
  },
  {
   "cell_type": "code",
   "execution_count": 2,
   "metadata": {},
   "outputs": [
    {
     "name": "stdout",
     "output_type": "stream",
     "text": [
      "- Imported Data\n"
     ]
    }
   ],
   "source": [
    "# DATA\n",
    "# Note that raw docs is a numpy array. \n",
    "# Example element is: \n",
    "# 'Logical Disk Free Space is low, Description: The disk C: on computer sjcphxstg02.strykercorp.com is running out of disk space. The values that exceeded the thre'\n",
    "# data_file_string = 'short_description.pkl'\n",
    "data_file_string = 'data.pkl'\n",
    "data_file = os.path.join(os.path.dirname(os.path.abspath(inspect.getfile(inspect.currentframe()))),'data',data_file_string)\n",
    "raw_docs = pickle.load(open(data_file,'rb'))\n",
    "print('- Imported Data')"
   ]
  },
  {
   "cell_type": "code",
   "execution_count": 3,
   "metadata": {},
   "outputs": [],
   "source": [
    "# PRE-PROCESSING\n",
    "preprocess_steps_and_order = {\n",
    "\t'make_lowercase': [True],\n",
    "\t'punctuation_removal':[True],\n",
    "\t'whitespace_removal': [True],\n",
    "\t'store_alphanumeric': [False],\n",
    "\t'pos_removal_nltk': [True],\n",
    "\t'tokenization_nltk': [False],\n",
    "\t'lemmatization_tokenization_spacy': [True],\n",
    "\t'stopwords_removal_nltk': [True],\n",
    "\t'stopwords_removal_spacy': [False],\n",
    "\t'make_bigrams_gensim':[True, {'make_bigrams_gensim': True, 'bigrams_min_count': 10, 'bigrams_threshold': 10}],\n",
    "\t'make_trigrams_gensim':[True, {'make_trigrams_gensim': True, 'trigrams_min_count': 10, 'trigrams_threshold': 10}],\n",
    "\t'min_max_length_removal':[False, {'min_max_length_removal': False, 'mmlr_min_len': 3, 'mmlr_max_len': 50, 'mmlr_deacc': False}]\n",
    "\t}\n",
    "\n",
    "preprocess_functions = {\n",
    "\t'make_lowercase': make_lowercase,\n",
    "\t'punctuation_removal': punctuation_removal,\n",
    "\t'whitespace_removal': whitespace_removal,\n",
    "\t'store_alphanumeric': store_alphanumeric,\n",
    "\t'pos_removal_nltk': pos_removal_nltk,\n",
    "\t'tokenization_nltk': tokenization_nltk,\n",
    "\t'lemmatization_tokenization_spacy': lemmatization_tokenization_spacy,\n",
    "\t'stopwords_removal_nltk': stopwords_removal_nltk,\n",
    "\t'stopwords_removal_spacy': stopwords_removal_spacy,\n",
    "\t'make_bigrams_gensim': make_bigrams_gensim,\n",
    "\t'make_trigrams_gensim': make_trigrams_gensim,\n",
    "\t'min_max_length_removal': min_max_length_removal\n",
    "\t}"
   ]
  },
  {
   "cell_type": "code",
   "execution_count": 4,
   "metadata": {},
   "outputs": [],
   "source": [
    "# MODELS\n",
    "models_dict = {\n",
    "\t'LDA_single_level': lda_model_single_level,\n",
    "\t'LDA_multi_level': lda_model_multi_level,\n",
    "}"
   ]
  },
  {
   "cell_type": "code",
   "execution_count": 5,
   "metadata": {},
   "outputs": [],
   "source": [
    "# SPECIFICATIONS\n",
    "specifications = {\n",
    "\t# 'model':'LDA_single_level', # Can be LDA_multi_level\n",
    "\t'level':2,\n",
    "\t'num_topics_list_level_1':[5,10,15,20,25],\n",
    "\t'num_topics_list_level_2':[3,5,8,11],\n",
    "\t'num_topics_list_level_3':[1,2,3,4,5],\n",
    "\t'coherence':'c_v',\n",
    "\t'need_best_topic': True,\n",
    "\t'model_selection_metric':'coherence', # or 'perplexity',\n",
    "\t'debug':False,\n",
    "}"
   ]
  },
  {
   "cell_type": "code",
   "execution_count": 6,
   "metadata": {},
   "outputs": [
    {
     "name": "stdout",
     "output_type": "stream",
     "text": [
      "*****************************************************\n",
      "- Starting preprocessing\n",
      "\n",
      "       ##### Lowercasing Done! Time Taken -  0.030001401901245117\n",
      "\n",
      "       ##### Punctuation removed! Time Taken -  0.2760169506072998\n",
      "\n",
      "       ##### Whitespace removed! Time Taken -  0.13400769233703613\n",
      "\n",
      "       ##### POS Removal Done! Time Taken -  37.228357553482056\n",
      "\n",
      "       ##### Lemmatization and Tokenization Done using Spacy! Time Taken -  67.00835084915161\n",
      "\n",
      "       ##### Stopwords Removed using NLTK! Time Taken -  0.2983074188232422\n",
      "\n",
      "       ##### Bi-Grams made using Gensim! Time Taken -  1.568096399307251\n",
      "\n",
      "       ##### Tri-Grams made using Gensim! Time Taken -  1.5360987186431885\n",
      "~~~ pre-processing done in  108.15050411224365\n",
      " \n",
      "- Creating dictionary and corpus\n"
     ]
    }
   ],
   "source": [
    "print('*****************************************************')\n",
    "print('- Starting preprocessing')\n",
    "dictionary, corpus, doc_list = preprocess(\n",
    "\t\t\t\t\t\t\t\traw_docs = raw_docs, \n",
    "\t\t\t\t\t\t\t\tpreprocess_functions = preprocess_functions, \n",
    "\t\t\t\t\t\t\t\tpreprocess_steps_and_order = preprocess_steps_and_order, \n",
    "\t\t\t\t\t\t\t\tdebug=False)"
   ]
  },
  {
   "cell_type": "code",
   "execution_count": 7,
   "metadata": {},
   "outputs": [
    {
     "name": "stdout",
     "output_type": "stream",
     "text": [
      "*****************************************************\n",
      "- Starting model training\n",
      " \n",
      "Sample data point:  ['dataset', 'transaction', 'credit', 'card', 'september', 'cardholder', 'dataset', 'transaction', 'day', 'fraud', 'transaction', 'dataset', 'class', 'fraud', 'account', 'transaction', 'input', 'variable', 'result', 'transformation', 'confidentiality', 'issue', 'feature', 'background', 'datum', 'feature', 'v28', 'component', 'pca', 'feature', 'pca', 'transaction', 'transaction', 'dataset', 'feature', 'amount', 'transaction', 'amount', 'feature', 'dependant', 'cost', 'feature', 'class', 'response', 'variable', 'value', 'case', 'fraud', 'class', 'imbalance', 'ratio', 'accuracy', 'area', 'precision', 'recall', 'curve', 'confusion', 'matrix', 'accuracy', 'classification', 'dataset', 'research', 'collaboration', 'worldline', 'machine', 'group', 'ac', 'libre', 'bruxelle', 'datum_mining', 'fraud', 'detection', 'detail', 'project', 'topic', 'http', 'mlg', 'brufence', 'http', 'mlg', 'dal', 'pozzolo', 'johnson', 'gianluca', 'bontempi', 'probability', 'classification', 'symposium', 'intelligence', 'datum_mining', 'cidm', 'ieee']\n",
      " \n",
      "\t### Running LDA for number of topic - 5\n",
      "\tLDA Done for 5 topic! Time Taken is 13.046070337295532\n",
      "\tEvaluating model for number of topic - 5\n",
      "---\n",
      "\t### Running LDA for number of topic - 10\n",
      "\tLDA Done for 10 topic! Time Taken is 17.90545344352722\n",
      "\tEvaluating model for number of topic - 10\n",
      "---\n",
      "\t### Running LDA for number of topic - 15\n",
      "\tLDA Done for 15 topic! Time Taken is 25.39391589164734\n",
      "\tEvaluating model for number of topic - 15\n",
      "---\n",
      "- Done training model on all topics in 84.21873641014099 sec!\n",
      "Done Single-Level LDA\n"
     ]
    }
   ],
   "source": [
    "print('*****************************************************')\n",
    "print('- Starting model training')\n",
    "lda_dict = lda_model_single_level(\n",
    "\t\t\t\t\tdictionary = dictionary,\n",
    "\t\t\t\t\tcorpus = corpus,\n",
    "\t\t\t\t\tdoc_list = doc_list,\n",
    "\t\t\t\t\tnum_topics_list_level_1 = specifications['num_topics_list_level_1'], \n",
    "\t\t\t\t\tcoherence = specifications['coherence'],\n",
    "\t\t\t\t\tdebug = specifications['debug'],\n",
    "\t\t\t\t\tneed_best_topic = specifications['need_best_topic'],\n",
    "\t\t\t\t\tmodel_selection_metric = specifications['model_selection_metric']\n",
    "\t\t\t\t\t)"
   ]
  },
  {
   "cell_type": "code",
   "execution_count": 13,
   "metadata": {},
   "outputs": [
    {
     "name": "stdout",
     "output_type": "stream",
     "text": [
      "5\n",
      "0.47154971390590406\n",
      "-8.58700882191759\n"
     ]
    }
   ],
   "source": [
    "# pyLDAvis.enable_notebook()\n",
    "# print(lda_dict['best_topic'])\n",
    "# print(lda_dict['coherence_score'])\n",
    "# print(lda_dict['perplexity_score'])\n",
    "# visualization = pyLDAvis.gensim.prepare(lda_dict['best_lda_model'], lda_dict['corpus'], lda_dict['dictionary'])\n",
    "# pyLDAvis.save_html(visualization, 'lda.html')\n",
    "# visualization"
   ]
  },
  {
   "cell_type": "code",
   "execution_count": null,
   "metadata": {},
   "outputs": [],
   "source": []
  },
  {
   "cell_type": "code",
   "execution_count": 7,
   "metadata": {},
   "outputs": [
    {
     "name": "stdout",
     "output_type": "stream",
     "text": [
      "*****************************************************\n",
      "- Starting model training\n",
      " \n",
      "Sample data point:  ['dataset', 'transaction', 'credit', 'card', 'september', 'cardholder', 'dataset', 'transaction', 'day', 'fraud', 'transaction', 'dataset', 'class', 'fraud', 'account', 'transaction', 'input', 'variable', 'result', 'transformation', 'confidentiality', 'issue', 'feature', 'background', 'datum', 'feature', 'v28', 'component', 'pca', 'feature', 'pca', 'transaction', 'transaction', 'dataset', 'feature', 'amount', 'transaction', 'amount', 'feature', 'dependant', 'cost', 'feature', 'class', 'response', 'variable', 'value', 'case', 'fraud', 'class', 'imbalance', 'ratio', 'accuracy', 'area', 'precision', 'recall', 'curve', 'confusion', 'matrix', 'accuracy', 'classification', 'dataset', 'research', 'collaboration', 'worldline', 'machine', 'group', 'ac', 'libre', 'bruxelle', 'datum_mining', 'fraud', 'detection', 'detail', 'project', 'topic', 'http', 'mlg', 'brufence', 'http', 'mlg', 'dal', 'pozzolo', 'johnson', 'gianluca', 'bontempi', 'probability', 'classification', 'symposium', 'intelligence', 'datum_mining', 'cidm', 'ieee']\n",
      " \n",
      "### Running process for Level-1\n",
      "\t### Running LDA for number of topic - 5\n",
      "\tLDA Done for 5 topic! Time Taken is 13.184399127960205\n",
      "\tEvaluating model for number of topic - 5\n",
      "Coherence - 0.42344370897668326, Perplexity - -8.623286392429044\n",
      "---\n",
      "\t### Running LDA for number of topic - 10\n",
      "\tLDA Done for 10 topic! Time Taken is 17.799175024032593\n",
      "\tEvaluating model for number of topic - 10\n",
      "Coherence - 0.4380128585592661, Perplexity - -8.683607088254488\n",
      "---\n",
      "\t### Running LDA for number of topic - 15\n",
      "\tLDA Done for 15 topic! Time Taken is 24.449586391448975\n",
      "\tEvaluating model for number of topic - 15\n",
      "Coherence - 0.4269492587413793, Perplexity - -8.70957763666622\n",
      "---\n",
      "\t### Running LDA for number of topic - 20\n",
      "\tLDA Done for 20 topic! Time Taken is 29.20818591117859\n",
      "\tEvaluating model for number of topic - 20\n",
      "Coherence - 0.44553963900887616, Perplexity - -8.71613033999583\n",
      "---\n",
      "\t### Running LDA for number of topic - 25\n",
      "\tLDA Done for 25 topic! Time Taken is 34.79666471481323\n",
      "\tEvaluating model for number of topic - 25\n",
      "Coherence - 0.4458936085189615, Perplexity - -8.713198593582597\n",
      "---\n",
      "- Done training model for Level-1 on all topics in 170.9799518585205 sec!\n"
     ]
    },
    {
     "ename": "UnboundLocalError",
     "evalue": "local variable 'best_lda_model' referenced before assignment",
     "output_type": "error",
     "traceback": [
      "\u001b[1;31m---------------------------------------------------------------------------\u001b[0m",
      "\u001b[1;31mUnboundLocalError\u001b[0m                         Traceback (most recent call last)",
      "\u001b[1;32m<ipython-input-7-0c8042881c70>\u001b[0m in \u001b[0;36m<module>\u001b[1;34m\u001b[0m\n\u001b[0;32m     11\u001b[0m                                         \u001b[0mmodel_selection_metric\u001b[0m \u001b[1;33m=\u001b[0m \u001b[0mspecifications\u001b[0m\u001b[1;33m[\u001b[0m\u001b[1;34m'model_selection_metric'\u001b[0m\u001b[1;33m]\u001b[0m\u001b[1;33m,\u001b[0m\u001b[1;33m\u001b[0m\u001b[0m\n\u001b[0;32m     12\u001b[0m                                         \u001b[0mnum_topics_list_level_1\u001b[0m \u001b[1;33m=\u001b[0m \u001b[0mspecifications\u001b[0m\u001b[1;33m[\u001b[0m\u001b[1;34m'num_topics_list_level_1'\u001b[0m\u001b[1;33m]\u001b[0m\u001b[1;33m,\u001b[0m\u001b[1;33m\u001b[0m\u001b[0m\n\u001b[1;32m---> 13\u001b[1;33m                                         \u001b[0mnum_topics_list_level_2\u001b[0m \u001b[1;33m=\u001b[0m \u001b[0mspecifications\u001b[0m\u001b[1;33m[\u001b[0m\u001b[1;34m'num_topics_list_level_2'\u001b[0m\u001b[1;33m]\u001b[0m\u001b[1;33m,\u001b[0m\u001b[1;33m\u001b[0m\u001b[0m\n\u001b[0m\u001b[0;32m     14\u001b[0m \t\t\t\t\t)\n",
      "\u001b[1;32m~\\OneDrive - Stryker\\Personal\\git_repo_archive\\autoTopicModeling\\models\\LDA_multi_level.py\u001b[0m in \u001b[0;36mlda_model_multi_level\u001b[1;34m(level, dictionary, corpus, doc_list, num_topics_list_level_1, coherence, debug, need_best_topic, model_selection_metric, num_topics_list_level_2, num_topics_list_level_3)\u001b[0m\n\u001b[0;32m    117\u001b[0m         \u001b[0mbest_lda_model_level_1\u001b[0m \u001b[1;33m=\u001b[0m \u001b[0mlda_models_level_1\u001b[0m\u001b[1;33m[\u001b[0m\u001b[0mbest_topic\u001b[0m\u001b[1;33m]\u001b[0m\u001b[1;33m\u001b[0m\u001b[0m\n\u001b[0;32m    118\u001b[0m \u001b[1;33m\u001b[0m\u001b[0m\n\u001b[1;32m--> 119\u001b[1;33m \tlda_level_1 = {'best_lda_model': best_lda_model,\n\u001b[0m\u001b[0;32m    120\u001b[0m                                                         \u001b[1;34m'best_topic'\u001b[0m\u001b[1;33m:\u001b[0m \u001b[0mbest_topic\u001b[0m\u001b[1;33m,\u001b[0m\u001b[1;33m\u001b[0m\u001b[0m\n\u001b[0;32m    121\u001b[0m                                                         \u001b[1;34m'coherence_score'\u001b[0m\u001b[1;33m:\u001b[0m \u001b[0mcoherence_score\u001b[0m\u001b[1;33m,\u001b[0m\u001b[1;33m\u001b[0m\u001b[0m\n",
      "\u001b[1;31mUnboundLocalError\u001b[0m: local variable 'best_lda_model' referenced before assignment"
     ]
    }
   ],
   "source": [
    "print('*****************************************************')\n",
    "print('- Starting model training')\n",
    "lda_level_1, lda_level_2 = lda_model_multi_level(\n",
    "\t\t\t\t\tlevel = specifications['level'],\n",
    "\t\t\t\t\tdictionary = dictionary,\n",
    "\t\t\t\t\tcorpus = corpus,\n",
    "\t\t\t\t\tdoc_list = doc_list,\n",
    "\t\t\t\t\tcoherence = specifications['coherence'],\n",
    "\t\t\t\t\tdebug = specifications['debug'],\n",
    "\t\t\t\t\tneed_best_topic = specifications['need_best_topic'],\n",
    "\t\t\t\t\tmodel_selection_metric = specifications['model_selection_metric'],\n",
    "\t\t\t\t\tnum_topics_list_level_1 = specifications['num_topics_list_level_1'], \n",
    "\t\t\t\t\tnum_topics_list_level_2 = specifications['num_topics_list_level_2'], \n",
    "\t\t\t\t\t)"
   ]
  },
  {
   "cell_type": "code",
   "execution_count": null,
   "metadata": {},
   "outputs": [],
   "source": []
  }
 ],
 "metadata": {
  "kernelspec": {
   "display_name": "Python 3",
   "language": "python",
   "name": "python3"
  },
  "language_info": {
   "codemirror_mode": {
    "name": "ipython",
    "version": 3
   },
   "file_extension": ".py",
   "mimetype": "text/x-python",
   "name": "python",
   "nbconvert_exporter": "python",
   "pygments_lexer": "ipython3",
   "version": "3.6.6"
  }
 },
 "nbformat": 4,
 "nbformat_minor": 2
}
